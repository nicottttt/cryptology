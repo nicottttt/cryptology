{
 "cells": [
  {
   "cell_type": "markdown",
   "metadata": {},
   "source": [
    "# Decrypting Monoalphabetic Substitution Ciphers\n",
    "\n",
    "_Author: Benjamin Smith._\n",
    "_Modified by: Matthieu Lequesne, François Morain._\n",
    "\n",
    "_Version: 20230914_\n",
    "\n",
    "_Based on earlier X tutorials by François Morain and Benjamin Smith._\n",
    "\n",
    "## Introduction\n",
    "\n",
    "**Monoalphabetic Substitution Ciphers** map individual symbols in the plaintext to symbols in the ciphertext (and back again) using a rule that depends only on the symbol (and not its position, or any other context).\n",
    "\n",
    "The simplest example is the **Caesar** cipher, which maps each letter to its neighbour in the alphabet:\n",
    "- plaintext `a` maps to ciphertext `B`,\n",
    "- plaintext `b` maps to ciphertext `C`,\n",
    "- plaintext `c` maps to ciphertext `D`,\n",
    "- ...\n",
    "- plaintext `z` maps to ciphertext `A`.\n",
    "\n",
    "_(Note that we always use lower-case letters for plaintext symbols and UPPER-CASE LETTERS for ciphertext symbols.)_\n",
    "\n",
    "The Caesar cipher uses a very simple key, but for a general substitution cipher guessing the key is out of the question: there are 26! = 403291461126605635584000000 possibilities!\n",
    "\n",
    "However, substitution ciphers are notoriously insecure.  This is because they preserve a lot of the statistical structure of the plaintext's language.  In particular, the most frequent ciphertext symbols generally represent the most frequent letters of the plaintext (especially when the plaintext is long, so its statistics conform better to general texts in the target language).\n",
    "\n",
    "Figuring out which ciphertext symbols represent the **most common letters** of the alphabet is relatively easy.  For example, \"e\" is the most common letter in French and in English, so the most common symbol in the ciphertext probably represents \"e\"!\n",
    "\n",
    "The next few most common letters are usually easy to identify, too (though we might have to try a few permutations among them, since their probabilities are actually quite close and hard to distinguish between).\n",
    "\n",
    "We can also detect common combinations of adjacent symbols: in French, \"q\" is always followed by \"u\", but \"u\" is rarely followed by \"q\", so we can look for pairs (**bigrams**) `XY` (say) in the ciphertext such that `X` is never followed by any other symbol except `Y`, and `YX` only rarely appears; such an `XY` would be a good candidate for the encryption of `qu`.\n",
    "\n",
    "It is painful to compute the symbol and bigram frequencies by hand, so we've written some simple code to do this for you.  And since cryptanalysis necessarily involves (a lot of) **trial and error**, we've also included an interactive solving loop that lets you try setting different candidates, print the results, and undo bad guesses.\n",
    "\n",
    "The more symbols you identify, the more you will see familiar patterns emerge in the plaintext...\n",
    "- The first few symbols are **easy** to find;\n",
    "- the next handful are surprisingly **hard**;\n",
    "- but once you have found them, it will suddenly become surprisingly **easy to finish** the job.\n",
    "\n",
    "The idea is to **use basic statistics to improve your chances at trial and error**.  You'll need to use a fair amount of intuition for the target language - so if you're a native French speaker, we suggest attempting one of the challenges where the plaintext is in French!"
   ]
  },
  {
   "cell_type": "markdown",
   "metadata": {},
   "source": [
    "## Getting started"
   ]
  },
  {
   "cell_type": "markdown",
   "metadata": {},
   "source": [
    "### Setting the target language\n",
    "Our main tool today is **frequency analysis**: we will exploit the statistical properties of the message's language. Different languages have different expected symbol frequencies, so we should fix a target language once and for all.  \n",
    "\n",
    "The `language` variable defines the target language.\n",
    "- By default, we will set `language` to `'fr'` to attack messages written in French.\n",
    "- Use `'en'` for messages in English, `'de'` for German, `'es'` for Spanish."
   ]
  },
  {
   "cell_type": "code",
   "execution_count": 1,
   "metadata": {},
   "outputs": [],
   "source": [
    "language = 'en' # French by default; use 'en' for messages in English, 'de' for German, 'es' for Spanish"
   ]
  },
  {
   "cell_type": "markdown",
   "metadata": {},
   "source": [
    "### Selecting a target  ciphertext\n",
    "\n",
    "Now we need to choose a ciphertext to attack.  For this tutorial, we have\n",
    "- 21 ciphertexts corresponding to French plaintexts: set `target_number` to an integer between 1 and 21 (inclusive)\n",
    "- 7 ciphertexts corresponding to English plaintexts: set `target_number` to an integer between 1 and 7 (inclusive)\n",
    "- 3 ciphertexts corresponding to German plaintexts: set `target_number` to an integer between 1 and 3 (inclusive)\n",
    "- 2 ciphertexts corresponding to Spanish plaintexts: set `target_number` to an integer between 1 and 2 (inclusive)\n",
    "\n",
    "If you **change your challenge number**, then you need to re-run this cell _and all of the following cells_ (to update the frequency tables and re-start the solver).  The easiest way to do this is to use the \"fast-forward\" button in Jupyter."
   ]
  },
  {
   "cell_type": "code",
   "execution_count": 2,
   "metadata": {},
   "outputs": [],
   "source": [
    "target_number = 1  # By default\n",
    "\n",
    "# DO NOT MODIFY THE FOLLOWING LINES\n",
    "\n",
    "# Check parameters are sane before things get out of hand\n",
    "assert (language == 'fr' and 1 <= target_number <= 21) \\\n",
    "        or (language == 'en' and 1 <= target_number <= 7) \\\n",
    "        or (language == 'de' and 1 <= target_number <= 3) \\\n",
    "        or (language == 'es' and 1 <= target_number <= 2)\n",
    "\n",
    "# Define ciphertext filename\n",
    "ciphertext_filename = f'Challenges/substitution/{language}/{target_number:0>2}.txt'  # DO NOT MODIFY THIS LINE"
   ]
  },
  {
   "cell_type": "code",
   "execution_count": 3,
   "metadata": {},
   "outputs": [],
   "source": [
    "# For the assignment, to import the ciphertext from a specific file\n",
    "# uncomment the next line and modify the path to the location of the ciphertext on your computer \n",
    "# ciphertext_file = \"path/to/the/ciphertext.txt\""
   ]
  },
  {
   "cell_type": "markdown",
   "metadata": {},
   "source": [
    "## A first look at the ciphertext\n",
    "\n",
    "Let's open the ciphertext file, and have a quick look at the challenge ahead of us:"
   ]
  },
  {
   "cell_type": "code",
   "execution_count": 4,
   "metadata": {},
   "outputs": [
    {
     "name": "stdout",
     "output_type": "stream",
     "text": [
      "GOIMOIWCKZAZYBIZTEGYZBNQZPZVZAITZCNYWHZTWAIQZMYZUW\n",
      "GOCCZNIWGAGOIMOIWCTGAZWAIQZCBVZGYTZYBCIQZZPZVZAICB\n",
      "YZCMZNWEWZTWAIQZWAMOIZLNZMIEGYAGAGMIWGAMBYBVZIZYCG\n",
      "OIMOINBAHZTGAZWANGVMBIWHPZOASOGIZTVGTZGYWACONQFBRI\n",
      "QBIFQWIZCMBNZBATGIQZYCMZNWBPNQBYBNIZYCFWIQWABYKOVZ\n",
      "AICBATAGAGMIWGAMBYBVZIZYCBYZMYZCZYUZTCZZSOGIWAKFQZ\n",
      "AIQZGOIMOIWCMYGNZCCZTWAIQZCQZPPCNYWMIWIFWPPCZZVIGH\n",
      "ZNGVMGCZTGETWCIWANIZPZVZAICIQBINBAHZMYGNZCCZTGAZHR\n",
      "GAZHROCWAKIQZCQWEINGVVBATWAVGCICQZPPPBAKOBKZCIQWCW\n",
      "CWVMZYEZNIWAOASOGIZTVGTZBCZPZVZAICNBAHZCMPWIBIOAZL\n",
      "MZNIZTMPBNZCWEIQZRNGAIBWAFQWIZCMBNZGYCMZNWBPNQBYBN\n",
      "IZYCWEIQZYZBYZMYGHPZVCMBYCWAKIQZMBYBVZIZYCEGYZLBVM\n",
      "PZHZNBOCZBYZSOWYZTBYKOVZAIWCAGIEGOATGYBAGMIWGAWCAG\n",
      "IYZNGKAWXZTBAZYYGYFWPPHZYZMGYIZTGACITZYYIQZYZFWPPH\n",
      "ZAGGOIMOIEGYIQZGEEZATWAKZPZVZAIBATBAGAXZYGZYYGYCIB\n",
      "IOCWCYZIOYAZT\n",
      "\n"
     ]
    }
   ],
   "source": [
    "# DO NOT MODIFY THIS CELL\n",
    "ciphertext_file = open(ciphertext_filename, 'r')\n",
    "ciphertext = ciphertext_file.read()\n",
    "print(ciphertext)"
   ]
  },
  {
   "cell_type": "markdown",
   "metadata": {},
   "source": [
    "**Observe:**\n",
    "1. We always use UPPER-CASE LETTERS for the ciphertext alphabet\n",
    "2. We use lower-case letters for the plaintext alphabet\n",
    "3. **All spaces and punctuation have been removed** from the plaintext before encryption. _(Encrypted spaces would be easy to identify, and then this would immediately reveal the lengths and structures of individual words...  Which is too easy!)_\n",
    "4. Here, we wrap lines of ciphertext at 50 characters, to try to keep things readable - but this means that words might be broken across lines"
   ]
  },
  {
   "cell_type": "markdown",
   "metadata": {},
   "source": [
    "### Loading the toolbox\n",
    "\n",
    "Now we're ready to load the `substitution` module, which contains some useful tools for breaking substitution ciphers, and create a `Solver` object to attack our specific ciphertext."
   ]
  },
  {
   "cell_type": "code",
   "execution_count": null,
   "metadata": {},
   "outputs": [],
   "source": [
    "# DO NOT MODIFY THIS CELL\n",
    "import substitution  # Today's toolbox\n",
    "solver = substitution.Solver(ciphertext_filename, language)"
   ]
  },
  {
   "cell_type": "markdown",
   "metadata": {},
   "source": [
    "## Fundamental Statistics\n",
    "\n",
    "Before going any further, let's compute and compare some basic statistics on the target language and the ciphertext.  We will refer to these during our cryptanalysis attempt."
   ]
  },
  {
   "cell_type": "markdown",
   "metadata": {},
   "source": [
    "### Symbol Frequencies\n",
    "\n",
    "The first step is to consider individual symbol frequencies.  Symbols with higher/lower frequencies in the ciphertext _should_ correspond to symbols with higher/lower frequencies in the plaintext's language.\n",
    "\n",
    "The `solver` object can tabulate these for us.\n",
    "\n",
    "The following table lists the symbols in the target language and in the cipherext in order of frequency.\n",
    "- The **Expected** column tells you how many times you would expect that symbol to appear in an average plaintext of the same length as the ciphertext\n",
    "- The **Occurrences** column tells you how many times the symbol actually appeared in the ciphertext.\n",
    "- The first row usually gives you a strong idea of which ciphertext symbol corresponds to the plaintext letter 'e'...\n",
    "- ...but after that, the data is a little too fuzzy to form any strong hypotheses."
   ]
  },
  {
   "cell_type": "code",
   "execution_count": null,
   "metadata": {},
   "outputs": [],
   "source": [
    "solver.symbol_frequencies()  # DO NOT MODIFY"
   ]
  },
  {
   "cell_type": "markdown",
   "metadata": {},
   "source": [
    "A visual comparison might help.  First, let's look at a histogram of symbols in a hypothetical or average plaintext of the given length:"
   ]
  },
  {
   "cell_type": "code",
   "execution_count": null,
   "metadata": {},
   "outputs": [],
   "source": [
    "solver.language_histogram()  # DO NOT MODIFY"
   ]
  },
  {
   "cell_type": "markdown",
   "metadata": {},
   "source": [
    "Now let's look at the histogram of symbol frequencies in the ciphertext: "
   ]
  },
  {
   "cell_type": "code",
   "execution_count": null,
   "metadata": {},
   "outputs": [],
   "source": [
    "solver.ciphertext_histogram()  # DO NOT MODIFY"
   ]
  },
  {
   "cell_type": "markdown",
   "metadata": {},
   "source": [
    "### Bigram Frequencies\n",
    "\n",
    "A **bigram** is a pair of adjacent symbols.\n",
    "\n",
    "First, let's ask the `solver` to tabulate bigram frequencies for the target language.\n",
    "- **Columns** correspond to the first letter in the bigram\n",
    "- **Rows** correspond to the second letter\n",
    "- The frequencies are **normalized** to give the number of occurrences of each bigram you would _expect_ to see in an average plaintext of the same length as the target ciphertext.\n",
    "- For example: 'q' is virtually always followed by 'u', so the bigram 'qu' is quite frequent.  On the other hand, the bigram 'uq' is quite rare."
   ]
  },
  {
   "cell_type": "code",
   "execution_count": null,
   "metadata": {},
   "outputs": [],
   "source": [
    "solver.language_bigrams()"
   ]
  },
  {
   "cell_type": "markdown",
   "metadata": {},
   "source": [
    "Now let's tabulate bigram frequencies in the ciphertext, and compare."
   ]
  },
  {
   "cell_type": "code",
   "execution_count": null,
   "metadata": {},
   "outputs": [],
   "source": [
    "solver.ciphertext_bigrams()"
   ]
  },
  {
   "cell_type": "markdown",
   "metadata": {},
   "source": [
    "## Interactive Solving with the \"Shell\"\n",
    "\n",
    "Now we launch the substitution **shell**.  This cell contains an interactive loop that lets us iteratively try various partial decryptions and see the results.  (It also includes a few powerful bonus tools, some of which are hidden in the source...  Feel free to hack this!)\n",
    "\n",
    "To launch the shell, run the following cell.  A guide to using the shell is included just below, followed by some cryptanalysis hints.  \n",
    "\n",
    "_Depending on your Jupyter environment, you may be able to increase the cell height slightly to avoid too much annoying vertical scrolling..._"
   ]
  },
  {
   "cell_type": "code",
   "execution_count": null,
   "metadata": {},
   "outputs": [],
   "source": [
    "# DO NOT MODIFY THIS CELL\n",
    "sh = substitution.Shell(solver)\n",
    "sh.cmdloop()"
   ]
  },
  {
   "cell_type": "markdown",
   "metadata": {},
   "source": [
    "## Shell Commands\n",
    "\n",
    "The main shell commands are\n",
    "- `help`: Lists available commands.  For more help on a given command, run `help commandname`.\n",
    "- `quit`: Quits the shell (re-run the cell to restart)\n",
    "- `show`: Display the ciphertext and the current partial decryption.  Lines of the supposed plaintext appear under the corresponding ciphertext line.  Symbols that have not been assigned yet are marked with `-`.\n",
    "- `set X y`: Set the ciphertext symbol `X` to decrypt to the plaintext symbol `y`.\n",
    "- `unset X`: Remove the supposed decryption for `X` (i.e., undo the last `set X ...`)\n",
    "- `map` lets you `set` multiple symbols in parallel"
   ]
  },
  {
   "cell_type": "markdown",
   "metadata": {},
   "source": [
    "## Hints\n",
    "\n",
    "### 1. Find the 'e'\n",
    "\n",
    "The most common symbol in the plaintext will almost certainly be `e`...  So:\n",
    "1. Identify the most common symbol in the ciphertext using the frequency tables above,\n",
    "2. run `set X e`, where `X` is the most common symbol in the ciphertext\n",
    "3. run `show` to see where the `e`s appear in the plaintext.\n",
    "\n",
    "### 2. Find the 'qu'\n",
    "\n",
    "In languages like French and English, `q` is virtually always followed by `u`...  And in French, `qu` is very common (think of \"que\", \"qui\", \"quoi\", \"quand\", ...)\n",
    "\n",
    "1. Run the `find_qu` command will look for candidate pairs.\n",
    "2. For each pair, `find_qu` will list the pair of ciphertext symbols representing the candidate `qu`, then the number of times this pair appears in the ciphertext.  (If you have already `set` something to map to the possible `q` or `u`, then `find_qu` will warn you.)\n",
    "3. Choose a likely pair (e.g. the top one!): if this is `XY`, for example, then you can run `set X q` and `set Y u`.  Alternatively, `map XY qu` will do this in one command.\n",
    "4. Now `show` the results...\n",
    "\n",
    "### 3. Find vowels\n",
    "\n",
    "Gaines' method will identify probable consonants: the command `consonants` will give you a useful hint here. It is wise to use it in conjunction with Sukhotin's method that tries to idenfity vowels. The command `vowels` does this and prints tables of bigrams made of vowels, both in the ciphertext and the reference language.\n",
    "\n",
    "In french, finding `qu` is best done finding `ou` at the same time.\n",
    "\n",
    "### 4. Try some frequent letters\n",
    "\n",
    "Now look at some other frequent letters, or frequent bigrams, and try to match them up... Each language has its own peculiarities that can help breaking this kind of encryption most of the time.\n",
    "\n",
    "**Run `show` each time you `set` a symbol**, to see if the partial decryption confirms your suspicions. If you think you've made a mistake, you can always undo it with `unset`.\n",
    "\n",
    "#### Hints for French\n",
    "\n",
    "- For example: `le` is very common - much more common than `el`, and at this point you've already identifed `e`, so you can try to find `l` in the bigram table...\n",
    "- Similarly, `en` is very common, and `ne` is quite common too... Can you find and match up other pairs?\n",
    "- You can also try matching up some of the more common individual symbols using the frequency tables at the top.  You've already found the easiest letter, `e`, but you can probably identify a handful of candidates for `a`, `s`, `i`, `n`, and `t` (the next five most common symbols in French...)\n",
    "\n",
    "#### Hints for English\n",
    "\n",
    "`th` dominates every other pair, and is much more frequent than `ht`. It is also possible to locate `th?t` or `th?s` or `the?e` or `th?se` and also of course `the`.\n",
    "\n",
    "#### Hints for German\n",
    "\n",
    "`ch` is much more frequent than `hc`; followed by `sch`, `ck`.\n",
    "\n",
    "### 5. Use your eyes (and your brain!)\n",
    "\n",
    "Solving monoalphabetic ciphers is a **probabilistic** process.  Run `show` frequently, and see if you can spot parts of familiar words appearing in the plaintext.  The further you go, the easier it will get.  \n",
    "\n",
    "If one of your early `set` commands reveals one of the first few letters of the ciphertext, then it might give you an idea for the possible first word of the plaintext.  \n",
    "\n",
    "For example: suppose you have identified the `e`, and now your partial plaintext starts with `-e--`.  What words might appear at the beginning of a text, with second letter `e`?  `Le...`, `Ce...`, `Cet...`, `Cest...`, `De...`, `Je...`, `Ne...`, all come to mind...  And you may be able to decide which one(s) are more likely to be correct based on the frequency of the first symbol in the ciphertext, and of the bigrams it forms with `e`. \n",
    "\n",
    "### 6. Be patient!\n",
    "\n",
    "Cryptanalysis is hard.  Don't be put off by this! Keep trying, and **ask us for help** if you need more hints or encouragement! \n",
    "\n"
   ]
  },
  {
   "cell_type": "code",
   "execution_count": null,
   "metadata": {},
   "outputs": [],
   "source": []
  }
 ],
 "metadata": {
  "kernelspec": {
   "display_name": "Python 3 (ipykernel)",
   "language": "python",
   "name": "python3"
  },
  "language_info": {
   "codemirror_mode": {
    "name": "ipython",
    "version": 3
   },
   "file_extension": ".py",
   "mimetype": "text/x-python",
   "name": "python",
   "nbconvert_exporter": "python",
   "pygments_lexer": "ipython3",
   "version": "3.11.3"
  }
 },
 "nbformat": 4,
 "nbformat_minor": 4
}
