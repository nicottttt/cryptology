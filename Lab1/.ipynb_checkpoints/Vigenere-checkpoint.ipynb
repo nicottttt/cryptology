{
 "cells": [
  {
   "cell_type": "markdown",
   "metadata": {},
   "source": [
    "# Decrypting Vigenere Ciphers\n",
    "\n",
    "_Author: Matthieu Lequesne._\n",
    "\n",
    "_Version: 20230914_\n",
    "\n",
    "_Based on earlier X tutorials by François Morain and Benjamin Smith._\n",
    "\n",
    "## Introduction\n",
    "\n",
    "### Ceasar cipher\n",
    "\n",
    "The **Caesar cipher** is a substitution cipher in which each letter in the plaintext is replaced by a letter some fixed number of positions down the alphabet.\n",
    "Eg. if we shift each letter by 3 positions in the alphabet:\n",
    "- plaintext `a` maps to ciphertext `D`,\n",
    "- plaintext `b` maps to ciphertext `E`,\n",
    "- plaintext `c` maps to ciphertext `F`,\n",
    "- ...\n",
    "- plaintext `z` maps to ciphertext `C`.\n",
    "\n",
    "Hence, `crypto` is maped to `FUBSWR`.\n",
    "\n",
    "_(Note that we always use lower-case letters for plaintext symbols and UPPER-CASE LETTERS for ciphertext symbols.)_\n",
    "\n",
    "The Caesar cipher uses a very simple key, corresponding to the value of the shift (26 possibilities) and is hence extremely easy to break using bruteforce. \n",
    "\n",
    "However, the Caesar cipher, is notoriously insecure. The Caesar cipher is a particular case of monoalphabetic substitution cipher. These ciphers preserve a lot of the statistical structure of the plaintext's language.  In particular, the most frequent ciphertext symbols generally represent the most frequent letters of the plaintext (especially when the plaintext is long, so its statistics conform better to general texts in the target language).\n",
    "\n",
    "Figuring out which ciphertext symbols represent the **most common letters** of the alphabet is relatively easy.  For example, \"e\" is the most common letter in French and in English, so the most common symbol in the ciphertext probably represents \"e\"! With high probability, the most common letter in the ciphertext corresponds to the encryption of \"e\" and this information is enough to deduce the value of the shift. Eg., if the most common letter in the ciphertext is \"J\" then the value of the shift is almost certainly 5.\n",
    "\n",
    "### Vigenere cipher\n",
    "\n",
    "The **Vigenere Cipher** consists in writing the plaintext in a grid of fixed length and applying a Cesar cipher to each column. Each column is shifted by a different number of positions in the alphabet. The length of the grid and the value of the shift for each column constitute the key.\n",
    "\n",
    "Example: to encrypt `secretmessage` using the key `[3, 1, 6, 18]` (key of length 4) we start by writing the plaintext in a grid of width 4:\n",
    "```\n",
    "s e c r\n",
    "e t m e\n",
    "s s a g\n",
    "e\n",
    "```\n",
    "\n",
    "- 1st column: apply a Ceasar cipher of shift `3` (`s`->`V`, etc.),\n",
    "- 2nd column: apply a Ceasar cipher of shift `1` (`e`->`F`, etc.),\n",
    "- 3rd column: apply a Ceasar cipher of shift `6` (`c`->`I`, etc.),\n",
    "- 4th column: apply a Ceasar cipher of shift `18` (`r`->`J`, etc.),\n",
    "```\n",
    "V F I J\n",
    "H U S W\n",
    "V T G Y \n",
    "H\n",
    "```\n",
    "And the ciphertext is `VFIJHUSWVTGYH`.\n",
    "\n",
    "The difficulty to decrypt a Vigenere ciphertext is that you do not know the length of the key (ie. the number of columns). Therefore there is two steps in the decryption process:\n",
    "1. finding the length of the key;\n",
    "2. finding the value of the shift applied to each column."
   ]
  },
  {
   "cell_type": "markdown",
   "metadata": {},
   "source": [
    "## Getting started"
   ]
  },
  {
   "cell_type": "markdown",
   "metadata": {},
   "source": [
    "### Setting the target language\n",
    "Our main tool today is **frequency analysis**: we will exploit the statistical properties of the message's language. Different languages have different expected symbol frequencies, so we should fix a target language once and for all.  \n",
    "\n",
    "The `language` variable defines the target language.\n",
    "- By default, we will set `language` to `'fr'` to attack messages written in French.\n",
    "- Use `'en'` for messages in English, `'de'` for German"
   ]
  },
  {
   "cell_type": "code",
   "execution_count": null,
   "metadata": {},
   "outputs": [],
   "source": [
    "language = 'en' # French by default; use 'en' for messages in English, 'de' for German"
   ]
  },
  {
   "cell_type": "markdown",
   "metadata": {},
   "source": [
    "### Selecting a target  ciphertext\n",
    "\n",
    "Now we need to choose a ciphertext to attack.  For this tutorial, we have\n",
    "- 8 ciphertexts corresponding to French plaintexts: set `target_number` to an integer between 1 and 8 (inclusive)\n",
    "- 2 ciphertexts corresponding to English plaintexts: set `target_number` to an integer between 1 and 2 (inclusive)\n",
    "- 4 ciphertexts corresponding to German plaintexts: set `target_number` to an integer between 1 and 4 (inclusive)\n",
    "\n",
    "If you **change your challenge number**, then you need to re-run this cell _and all of the following cells_ (to update the frequency tables and re-start the solver).  The easiest way to do this is to use the \"fast-forward\" button in Jupyter."
   ]
  },
  {
   "cell_type": "code",
   "execution_count": null,
   "metadata": {},
   "outputs": [],
   "source": [
    "target_number = 1  # By default\n",
    "\n",
    "# DO NOT MODIFY THE FOLLOWING LINES\n",
    "\n",
    "# Check parameters are sane before things get out of hand\n",
    "assert (language == 'fr' and 1 <= target_number <= 8) \\\n",
    "        or (language == 'en' and 1 <= target_number <= 3) \\\n",
    "        or (language == 'de' and 1 <= target_number <= 4) \n",
    "\n",
    "# Define ciphertext filename\n",
    "ciphertext_filename = f'Challenges/vigenere/{language}/{target_number:0>2}.txt'  # DO NOT MODIFY THIS LINE"
   ]
  },
  {
   "cell_type": "code",
   "execution_count": null,
   "metadata": {},
   "outputs": [],
   "source": [
    "# For the assignment, to import the ciphertext from a specific file\n",
    "# uncomment the next line and modify the path to the location of the ciphertext on your computer \n",
    "# ciphertext_file = \"path/to/the/ciphertext.txt\""
   ]
  },
  {
   "cell_type": "markdown",
   "metadata": {},
   "source": [
    "## A first look at the ciphertext\n",
    "\n",
    "Let's open the ciphertext file, and have a quick look at the challenge ahead of us:"
   ]
  },
  {
   "cell_type": "code",
   "execution_count": null,
   "metadata": {},
   "outputs": [],
   "source": [
    "# DO NOT MODIFY THIS CELL\n",
    "ciphertext_file = open(ciphertext_filename, 'r')\n",
    "ciphertext = ciphertext_file.read()\n",
    "print(ciphertext)"
   ]
  },
  {
   "cell_type": "markdown",
   "metadata": {},
   "source": [
    "**Observe:**\n",
    "1. We always use UPPER-CASE LETTERS for the ciphertext alphabet\n",
    "2. We use lower-case letters for the plaintext alphabet\n",
    "3. **All spaces and punctuation have been removed** from the plaintext before encryption. _(Encrypted spaces would be easy to identify, and then this would immediately reveal the lengths and structures of individual words...  Which is too easy!)_\n",
    "4. Here, we wrap lines of ciphertext at 50 characters, to try to keep things readable - but this means that words might be broken across lines"
   ]
  },
  {
   "cell_type": "markdown",
   "metadata": {},
   "source": [
    "### Loading the toolbox\n",
    "\n",
    "Now we're ready to load the `substitution` module, which contains some useful tools for breaking substitution ciphers, and create a `Solver` object to attack our specific ciphertext."
   ]
  },
  {
   "cell_type": "code",
   "execution_count": null,
   "metadata": {},
   "outputs": [],
   "source": [
    "# DO NOT MODIFY THIS CELL\n",
    "import vigenere  # Today's toolbox\n",
    "solver = vigenere.Solver(ciphertext_filename, language)"
   ]
  },
  {
   "cell_type": "markdown",
   "metadata": {},
   "source": [
    "## Finding the key length\n",
    "\n",
    "The first step of the cryptanalysis of a text encrypted using a Vigenere cipher is to find the length of the encryption key. For this, we have two tools."
   ]
  },
  {
   "cell_type": "markdown",
   "metadata": {},
   "source": [
    "### Kasiski: finding repeated patterns\n",
    "\n",
    "If the plaintext contains two equal sequence of letters, whose distance in the text is a multiple of the key length, they will be encrypted the same way. Reciprocally, a repeated pattern in the ciphertext probably corresponds to a repeated pattern in the plaintext. Hence, the distance between repeated pattern provides an information on the length of the key.\n",
    "\n",
    "The `solver` object can compute for us the longest repeated patterns and the distance between the two occurence of the pattern."
   ]
  },
  {
   "cell_type": "code",
   "execution_count": null,
   "metadata": {},
   "outputs": [],
   "source": [
    "solver.kasiski()  # DO NOT MODIFY"
   ]
  },
  {
   "cell_type": "markdown",
   "metadata": {},
   "source": [
    "### Friedman: computing the auto-correlation index\n",
    "\n",
    "The correlation index between two messages (of equal length) is the number of positions where the symbols in both messages are the same, divided by the length of the messages. Eg. the correlation index of `CRYPTOGRAPHIE` and `POLYTECHNIQUE` is $2/13 \\simeq0.15$.\n",
    "\n",
    "For an integer $k$, we compute the correlation index between the ciphertext $(c_0, c_1, \\ldots, c_{N-k})$ and the ciphertext starting at the k-th position $(c_k, c_{k+1}, \\ldots, c_N)$.\n",
    "\n",
    "If $k$ is the length of the key (or a multiple of it), this value should be higher (if the message is in French, this value should be around 0.078, compared to 0.038 for other $k$).\n",
    "\n",
    "Hence we can compute this index for all possible values of $k$. The values of $k$ that correspond to a high auto-correlation index are probably multiples of the key length.\n",
    "\n",
    "The `solver` object can compute these values for us."
   ]
  },
  {
   "cell_type": "code",
   "execution_count": null,
   "metadata": {},
   "outputs": [],
   "source": [
    "solver.friedman()  # DO NOT MODIFY"
   ]
  },
  {
   "cell_type": "markdown",
   "metadata": {},
   "source": [
    "## Decrypting each column\n",
    "\n",
    "Once the key length is fixed, this defines the columns of the ciphertext. Each column of the ciphertext corresponds to a column of the plaintext encrypted using a Ceasar cipher. For each column, we should find the value of the shift (26 choice). Several statistical methods can help"
   ]
  },
  {
   "cell_type": "code",
   "execution_count": null,
   "metadata": {},
   "outputs": [],
   "source": [
    "# IMPORTANT: before using the tools below, set the value of the key length\n",
    "key_length = -1 # <=== MODIFY THIS VALUE\n",
    "solver.set_key_length(key_length)"
   ]
  },
  {
   "cell_type": "code",
   "execution_count": null,
   "metadata": {},
   "outputs": [],
   "source": [
    "# IMPORTANT: before using the tools below, set the value of the column that you want to decrypt\n",
    "i_column = 0 # <=== MODIFY THIS VALUE"
   ]
  },
  {
   "cell_type": "markdown",
   "metadata": {},
   "source": [
    "### Bruteforcing\n",
    "\n",
    "For a given column, we can apply the 26 possible values of the shift and see what happens. The correct shift should yield letters that are more frequent in the language of the plaintext."
   ]
  },
  {
   "cell_type": "code",
   "execution_count": null,
   "metadata": {},
   "outputs": [],
   "source": [
    "solver.bruteforce_column(i_column)"
   ]
  },
  {
   "cell_type": "markdown",
   "metadata": {},
   "source": [
    "### Maximizing frequent letters\n",
    "\n",
    "Instead of bruteforcing, we can automate the search for frequent letters. One simple method is to compute the 10 most frequent letters in the shifted column and see how many of these letters belong to the 10 most frequent letters in the alphabet of the ciphertext."
   ]
  },
  {
   "cell_type": "code",
   "execution_count": null,
   "metadata": {},
   "outputs": [],
   "source": [
    "solver.maximize_frequent_letters(i_column)"
   ]
  },
  {
   "cell_type": "markdown",
   "metadata": {},
   "source": [
    "### Maximizing transition probabilities\n",
    "\n",
    "Once a column is deciphered, it becomes easier to decipher the neighbour columns. Indeed, it is possible to work \n",
    "on the bigrams to see if they are probable or not. For instance, in English, a `T` is more frequently followed by a `H` than by a `Z`. Hence if the left column contains a `T`, the right column is more likely to have an `H` in this row. If the left column has been deciphered, we can compute for all possible shifts of the right column an index that reflects the likelyhood that the bigrams appear in the text. This is the transition probability. The higher the transition probability, the more likely we have found the correct shift."
   ]
  },
  {
   "cell_type": "markdown",
   "metadata": {},
   "source": [
    "## Interactive Solving with the \"Shell\"\n",
    "\n",
    "Now we launch the substitution **shell**.  This cell contains an interactive loop that lets us iteratively try various partial decryptions and see the results. \n",
    "\n",
    "To launch the shell, run the following cell.  A guide to using the shell is included just below, followed by some cryptanalysis hints.  \n",
    "\n",
    "_Depending on your Jupyter environment, you may be able to increase the cell height slightly to avoid too much annoying vertical scrolling..._"
   ]
  },
  {
   "cell_type": "code",
   "execution_count": null,
   "metadata": {},
   "outputs": [],
   "source": [
    "# DO NOT MODIFY THIS CELL\n",
    "sh = vigenere.Shell(solver)\n",
    "sh.cmdloop()"
   ]
  },
  {
   "cell_type": "markdown",
   "metadata": {},
   "source": [
    "## Shell Commands\n",
    "\n",
    "The main shell commands are\n",
    "- `help`: Lists available commands.  For more help on a given command, run `help commandname`.\n",
    "- `quit`: Quits the shell (re-run the cell to restart)\n",
    "- `length n`: Sets the key length to `n`\n",
    "- `show`: Display the current partial decryption.  The text is displayed in columns corresponding to the key length.\n",
    "- `best j`: Displays the best shift values for column `j`, using the intersection of frequent letters and the transition probabilities if the shift value of the neighbour column is already set.\n",
    "- `set j s`: Sets the shift of column `j` to `s`.\n",
    "- `unset j`: Resets the shift of column `j` to an unknown value.\n",
    "- `key`: Displays the current value of the key."
   ]
  },
  {
   "cell_type": "markdown",
   "metadata": {},
   "source": [
    "## Hints\n",
    "\n",
    "### 1. Find the key length \n",
    "\n",
    "Use Kasiski's (finding repeated patterns) and Friedman's (computing the auto-correlation index) tools! The multiples of the key length will stand out with higher index values. Fix this value using `length`.\n",
    "\n",
    "### 2. Use the intersection of frequent letters to find the shift of one column\n",
    "\n",
    "Using `best` (or the graphical tool above), find one column where this indicator yields a good result (eg. 8 out of 10). It will not necessarily be the case for the first column, but keep trying. Fix this value using `set`.\n",
    "\n",
    "### 3. Use transition probabilities to decrypt the neighbouring columns\n",
    "\n",
    "Once you have fixed the shift of one column, the transition probabilities given by `best` will provide you with a very good indicator to find the shift of the neighbouring columns. Fix this value using `set`. Repeat this until you have decrypted all columns.\n",
    "\n",
    "### 4. Look at the decrypted text\n",
    "\n",
    "**Run `show` each time you `set` a symbol**, to see if the partial decryption confirms your suspicions. If you think you've made a mistake, you can always undo it with `unset`.\n",
    "\n",
    "### 5. Be patient!\n",
    "\n",
    "Cryptanalysis is hard.  Don't be put off by this! Keep trying, and **ask us for help** if you need more hints or encouragement! "
   ]
  },
  {
   "cell_type": "code",
   "execution_count": null,
   "metadata": {},
   "outputs": [],
   "source": []
  }
 ],
 "metadata": {
  "kernelspec": {
   "display_name": "Python 3 (ipykernel)",
   "language": "python",
   "name": "python3"
  },
  "language_info": {
   "codemirror_mode": {
    "name": "ipython",
    "version": 3
   },
   "file_extension": ".py",
   "mimetype": "text/x-python",
   "name": "python",
   "nbconvert_exporter": "python",
   "pygments_lexer": "ipython3",
   "version": "3.11.3"
  }
 },
 "nbformat": 4,
 "nbformat_minor": 4
}
